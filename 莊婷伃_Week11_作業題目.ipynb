{
  "nbformat": 4,
  "nbformat_minor": 0,
  "metadata": {
    "kernelspec": {
      "display_name": "Python 3",
      "language": "python",
      "name": "python3"
    },
    "language_info": {
      "codemirror_mode": {
        "name": "ipython",
        "version": 3
      },
      "file_extension": ".py",
      "mimetype": "text/x-python",
      "name": "python",
      "nbconvert_exporter": "python",
      "pygments_lexer": "ipython3",
      "version": "3.8.5"
    },
    "colab": {
      "name": "莊婷伃 - Week11 -作業題目.ipynb",
      "provenance": [],
      "include_colab_link": true
    }
  },
  "cells": [
    {
      "cell_type": "markdown",
      "metadata": {
        "id": "view-in-github",
        "colab_type": "text"
      },
      "source": [
        "<a href=\"https://colab.research.google.com/github/A109010064/Computational-Thinking-and-Program-Design/blob/main/%E8%8E%8A%E5%A9%B7%E4%BC%83_Week11_%E4%BD%9C%E6%A5%AD%E9%A1%8C%E7%9B%AE.ipynb\" target=\"_parent\"><img src=\"https://colab.research.google.com/assets/colab-badge.svg\" alt=\"Open In Colab\"/></a>"
      ]
    },
    {
      "cell_type": "markdown",
      "metadata": {
        "id": "gv2WhULftJRs"
      },
      "source": [
        "**隨堂練習 1：請輸入身分證字號，並判斷尾數是否為奇數?** "
      ]
    },
    {
      "cell_type": "markdown",
      "metadata": {
        "id": "1p3KW9VGtJRv"
      },
      "source": [
        "**回家作業**\n",
        "\n",
        "組長: 莊婷伃\n",
        "    \n",
        "組員:林庭安 陳佳敏\n",
        "    \n",
        "期末報告題目:\n",
        "dcard瘋傳!手搖杯心理心理測驗\n",
        "\n",
        "百字腳本初稿:\n",
        "\n",
        "您好，請問在生活中遇到了什麼困難嗎? 手搖杯心理測驗可以為您解惑，做您人生的燈塔！\n",
        "今天在您面前有四杯飲料，一杯是奶茶，一杯是紅茶，一杯是綠茶，一杯是奶茶，請問您會選擇哪一杯呢？\n",
        "以下四種甜度冰塊，您會選擇哪一種呢？\n",
        "無糖去冰，無糖正常冰，全糖去冰，全糖正常冰\n",
        "以下四種配料，您會選擇哪一種呢？\n",
        "波霸，珍珠，椰果，蘆薈\n",
        "\n",
        "\n",
        "\n",
        "\n",
        "(Note: **用電腦解決問題，你要解決的問題就是你的題目；解決問題的方法是什麼，請設計用對話方式讓我們知道答案。**\n",
        "\n",
        "在日常生活中，所有與客服有關的事情，都可以自動化改用對話機器人處理。例如:你去銀行櫃台詢問存錢事宜，你去系辦詢問選課事宜，你去餐廳詢問點餐事宜等等。這些例子都是針對一個問題，透過你和客服互動對話後解決。將與這些真人的客服對話自動化後，就變成對話機器人。對話機器人是目前全世界最熱門的商業互動模式，也是未來世界的趨勢。)\n"
      ]
    },
    {
      "cell_type": "code",
      "metadata": {
        "id": "Uv6RmMUC_lEJ"
      },
      "source": [
        "## 身分證字號是否為奇數?\n",
        "\n",
        "id_last_digit=input(\"請輸入您身分證字號的尾數:\")\n",
        "\n",
        "ans=int(id_last_digit)%2==1\n",
        "\n",
        "print(\"身分證尾數除以2的餘數是否為1:\",ans)"
      ],
      "execution_count": null,
      "outputs": []
    },
    {
      "cell_type": "code",
      "metadata": {
        "id": "dq1oH2nx0mco"
      },
      "source": [
        ""
      ],
      "execution_count": null,
      "outputs": []
    }
  ]
}