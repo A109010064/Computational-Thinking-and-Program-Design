{
  "nbformat": 4,
  "nbformat_minor": 0,
  "metadata": {
    "colab": {
      "name": "莊婷伃-week4-練習作業.ipynb",
      "provenance": [],
      "authorship_tag": "ABX9TyOzTKkQIBW/OocuRDfACicS",
      "include_colab_link": true
    },
    "kernelspec": {
      "name": "python3",
      "display_name": "Python 3"
    }
  },
  "cells": [
    {
      "cell_type": "markdown",
      "metadata": {
        "id": "view-in-github",
        "colab_type": "text"
      },
      "source": [
        "<a href=\"https://colab.research.google.com/github/A109010064/Computational-Thinking-and-Program-Design/blob/main/%E8%8E%8A%E5%A9%B7%E4%BC%83_week4_%E7%B7%B4%E7%BF%92%E4%BD%9C%E6%A5%AD.ipynb\" target=\"_parent\"><img src=\"https://colab.research.google.com/assets/colab-badge.svg\" alt=\"Open In Colab\"/></a>"
      ]
    },
    {
      "cell_type": "markdown",
      "metadata": {
        "id": "AvhydoLDWRgp"
      },
      "source": [
        "#隨堂練習"
      ]
    },
    {
      "cell_type": "markdown",
      "metadata": {
        "id": "gdC6HNckWcYE"
      },
      "source": [
        "#課後練習"
      ]
    },
    {
      "cell_type": "code",
      "metadata": {
        "id": "-1QlJOusWjb9"
      },
      "source": [
        ""
      ],
      "execution_count": null,
      "outputs": []
    }
  ]
}